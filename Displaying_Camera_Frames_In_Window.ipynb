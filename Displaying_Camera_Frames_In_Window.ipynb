{
 "cells": [
  {
   "cell_type": "code",
   "execution_count": 1,
   "id": "657535cb",
   "metadata": {},
   "outputs": [],
   "source": [
    "import cv2"
   ]
  },
  {
   "cell_type": "code",
   "execution_count": 2,
   "id": "b9e919a8",
   "metadata": {},
   "outputs": [],
   "source": [
    "clicked=False"
   ]
  },
  {
   "cell_type": "markdown",
   "id": "90642cfa",
   "metadata": {},
   "source": [
    "### The mouse callback passed to setMouseCallback should take five arguments, as seen in our code sample. The callback's param argument is set as an optional third argument to setMouseCallback. By default, it is 0. The callback's event argument is one of the following actions:\n",
    "\n",
    "#### cv2.EVENT_MOUSEMOVE: This event refers to mouse movement.\n",
    "#### cv2.EVENT_LBUTTONDOWN: This event refers to the left button going down when it is pressed.\n",
    "#### cv2.EVENT_RBUTTONDOWN: This event refers to the right button going down when it is pressed.\n",
    "#### cv2.EVENT_MBUTTONDOWN: This event refers to the middle button going down when it is pressed.\n",
    "#### cv2.EVENT_LBUTTONUP: This event refers to the left button coming back up when it is released.\n",
    "#### cv2.EVENT_RBUTTONUP: This event refers to the right button coming back up when it is released.\n",
    "#### cv2.EVENT_MBUTTONUP: This event refers to the middle button coming back up when it is released.\n",
    "#### cv2.EVENT_LBUTTONDBLCLK: This event refers to the left button being double-clicked.\n",
    "#### cv2.EVENT_RBUTTONDBLCLK: This event refers to the right button being double-clicked.\n",
    "#### cv2.EVENT_MBUTTONDBLCLK: This event refers to the middle button being double-clicked.\n"
   ]
  },
  {
   "cell_type": "markdown",
   "id": "4b535abf",
   "metadata": {},
   "source": [
    "### The mouse callback's flags argument may be some bitwise combination of the following events:\n",
    "\n",
    "#### cv2.EVENT_FLAG_LBUTTON: This event refers to the left button being pressed.\n",
    "#### cv2.EVENT_FLAG_RBUTTON: This event refers to the right button being pressed.\n",
    "#### cv2.EVENT_FLAG_MBUTTON: This event refers to the middle button being pressed.\n",
    "#### cv2.EVENT_FLAG_CTRLKEY: This event refers to the Ctrl key being pressed.\n",
    "#### cv2.EVENT_FLAG_SHIFTKEY: This event refers to the Shift key being pressed.\n",
    "#### cv2.EVENT_FLAG_ALTKEY: This event refers to the Alt key being pressed.\n",
    "\n"
   ]
  },
  {
   "cell_type": "code",
   "execution_count": 3,
   "id": "14d34052",
   "metadata": {},
   "outputs": [],
   "source": [
    "def onMouse(event, x, y, flags, param):\n",
    "    global clicked\n",
    "    if event==cv2.EVENT_LBUTTONUP:\n",
    "        clicked=True"
   ]
  },
  {
   "cell_type": "code",
   "execution_count": 4,
   "id": "901e7f03",
   "metadata": {},
   "outputs": [
    {
     "name": "stdout",
     "output_type": "stream",
     "text": [
      "showing Camera Feed, click window or press any key to stop\n"
     ]
    }
   ],
   "source": [
    "cameraCapture=cv2.VideoCapture(0)\n",
    "cv2.namedWindow(\"myWindow\")\n",
    "cv2.setMouseCallback('myWindow', onMouse)\n",
    "\n",
    "print(\"showing Camera Feed, click window or press any key to stop\")\n",
    "\n",
    "success, frame=cameraCapture.read()\n",
    "\n",
    "while success and cv2.waitKey(1)==-1 and not clicked:\n",
    "    cv2.imshow('myWindow', frame)\n",
    "    success, frame=cameraCapture.read()\n",
    "    \n",
    "\n",
    "cv2.destroyWindow('myWindow')\n",
    "cameraCapture.release()"
   ]
  },
  {
   "cell_type": "code",
   "execution_count": null,
   "id": "6c3ed054",
   "metadata": {},
   "outputs": [],
   "source": [
    "    "
   ]
  }
 ],
 "metadata": {
  "kernelspec": {
   "display_name": "Python 3",
   "language": "python",
   "name": "python3"
  },
  "language_info": {
   "codemirror_mode": {
    "name": "ipython",
    "version": 3
   },
   "file_extension": ".py",
   "mimetype": "text/x-python",
   "name": "python",
   "nbconvert_exporter": "python",
   "pygments_lexer": "ipython3",
   "version": "3.8.10"
  }
 },
 "nbformat": 4,
 "nbformat_minor": 5
}
